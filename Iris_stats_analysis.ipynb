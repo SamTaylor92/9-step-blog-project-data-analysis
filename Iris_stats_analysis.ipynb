{
 "cells": [
  {
   "cell_type": "code",
   "execution_count": 28,
   "metadata": {},
   "outputs": [],
   "source": [
    "# Define your hypotheses\n",
    "# Null hypothesis: There's no difference in sepal length between Iris species.\n",
    "# Alternative hypothesis: Sepal length differs between Iris species.\n"
   ]
  },
  {
   "cell_type": "code",
   "execution_count": 29,
   "metadata": {},
   "outputs": [],
   "source": [
    "# Uses kernel: anaconda3 (Python 3.9.7)\n",
    "# Import python packages\n",
    "import pandas as pd\n",
    "import matplotlib.pyplot as plt\n",
    "import seaborn as sns\n",
    "import numpy as np\n",
    "import scipy.stats as stats\n"
   ]
  },
  {
   "cell_type": "code",
   "execution_count": 30,
   "metadata": {},
   "outputs": [],
   "source": [
    "# Load the iris_dataset and store it in the variable 'df'\n",
    "df = pd.read_csv(\"/Users/samtaylor/Desktop/iris_dataset.csv\")"
   ]
  },
  {
   "cell_type": "code",
   "execution_count": 31,
   "metadata": {},
   "outputs": [
    {
     "data": {
      "image/png": "[encoded data removed]",
      "text/plain": [
       "<Figure size 640x480 with 1 Axes>"
      ]
     },
     "metadata": {},
     "output_type": "display_data"
    }
   ],
   "source": [
    "# Group the data by species\n",
    "grouped = df.groupby(df.species)\n",
    "\n",
    "# Visualize the data\n",
    "sns.boxplot(x='species', y='sepal_length', data=df)\n",
    "plt.title('Sepal Length Distribution by Species')\n",
    "plt.show()\n"
   ]
  },
  {
   "cell_type": "code",
   "execution_count": 32,
   "metadata": {},
   "outputs": [
    {
     "name": "stdout",
     "output_type": "stream",
     "text": [
      "Setosa Sepal Length is normally distributed (p-value: 0.4595010578632355 )\n"
     ]
    }
   ],
   "source": [
    "# Extract the 'sepal_length' data for each species\n",
    "setosa_sepal_length = df[df['species'] == 'Iris-setosa']['sepal_length']\n",
    "versicolor_sepal_length = df[df['species'] == 'Iris-versicolor']['sepal_length']\n",
    "virginica_sepal_length = df[df['species'] == 'Iris-virginica']['sepal_length']\n",
    "\n",
    "# Perform Shapiro-Wilk test for normality\n",
    "shapiro_test_setosa = stats.shapiro(setosa_sepal_length)\n",
    "shapiro_test_versicolor = stats.shapiro(versicolor_sepal_length)\n",
    "shapiro_test_virginica = stats.shapiro(virginica_sepal_length)\n",
    "\n",
    "# Return a message depending on the result of the p-value\n",
    "if shapiro_test_setosa.pvalue > 0.05:\n",
    "    print(\"Setosa Sepal Length is normally distributed (p-value:\", shapiro_test_setosa.pvalue, \")\")\n",
    "else:\n",
    "    print(\"Setosa Sepal Length is not normally distributed (p-value:\", shapiro_test_setosa.pvalue, \")\")\n"
   ]
  },
  {
   "cell_type": "code",
   "execution_count": 33,
   "metadata": {},
   "outputs": [
    {
     "name": "stdout",
     "output_type": "stream",
     "text": [
      "Reject the null hypothesis. Variance is not equal (p-value: 0.0022585277836218586)\n"
     ]
    }
   ],
   "source": [
    "from scipy.stats import levene\n",
    "\n",
    "# Perform Levene's test (remember: we defined 'grouped' in our code above)\n",
    "statistic, p_value = levene(\n",
    "    grouped.get_group(\"Iris-setosa\")[\"sepal_length\"],\n",
    "    grouped.get_group(\"Iris-versicolor\")[\"sepal_length\"],\n",
    "    grouped.get_group(\"Iris-virginica\")[\"sepal_length\"],\n",
    ")\n",
    "\n",
    "alpha = 0.05\n",
    "if p_value < alpha:\n",
    "    print(f\"Reject the null hypothesis. Variance is not equal (p-value: {p_value})\")\n",
    "else:\n",
    "    print(f\"Fail to reject the null hypothesis. Variance is equal (p-value: {p_value})\")"
   ]
  },
  {
   "cell_type": "code",
   "execution_count": 34,
   "metadata": {},
   "outputs": [
    {
     "name": "stdout",
     "output_type": "stream",
     "text": [
      "The sepal length differs significantly between Iris species. \n",
      "p-value: 0.00000000000000000000000000015050590\n"
     ]
    }
   ],
   "source": [
    "import pingouin as pg\n",
    "\n",
    "# Welch's ANOVA test\n",
    "result = pg.welch_anova(data=df, dv='sepal_length', between='species')\n",
    "\n",
    "# Access the p-value from the result\n",
    "p_value = result['p-unc'].values[0]\n",
    "\n",
    "# Format the p-value to display with all decimals\n",
    "formatted_p_value = \"{:.35f}\".format(p_value)\n",
    "\n",
    "# Return a message depending on the result of the p-value\n",
    "if p_value < 0.05:\n",
    "    print(f\"The sepal length differs significantly between Iris species. \\np-value: {formatted_p_value}\")\n",
    "else:\n",
    "    print(f\"There's no significant difference in sepal length between Iris species. \\np-value: {formatted_p_value}\")\n"
   ]
  },
  {
   "cell_type": "code",
   "execution_count": 35,
   "metadata": {},
   "outputs": [
    {
     "name": "stdout",
     "output_type": "stream",
     "text": [
      "Tukey's HSD Post-Hoc Test:\n",
      "        Multiple Comparison of Means - Tukey HSD, FWER=0.05        \n",
      "===================================================================\n",
      "     group1          group2     meandiff p-adj lower  upper  reject\n",
      "-------------------------------------------------------------------\n",
      "    Iris-setosa Iris-versicolor     0.93   0.0 0.6862 1.1738   True\n",
      "    Iris-setosa  Iris-virginica    1.582   0.0 1.3382 1.8258   True\n",
      "Iris-versicolor  Iris-virginica    0.652   0.0 0.4082 0.8958   True\n",
      "-------------------------------------------------------------------\n"
     ]
    }
   ],
   "source": [
    "# Import necessary libraries\n",
    "import statsmodels.api as sm\n",
    "from statsmodels.formula.api import ols\n",
    "from statsmodels.stats.multicomp import MultiComparison\n",
    "\n",
    "# Fit a one-way ANOVA model\n",
    "model = ols('sepal_length ~ species', data=df).fit()\n",
    "\n",
    "# Perform the ANOVA\n",
    "anova_table = sm.stats.anova_lm(model, typ=2)\n",
    "\n",
    "# Create a MultiComparison object for post-hoc tests\n",
    "mc = MultiComparison(df['sepal_length'], df['species'])\n",
    "\n",
    "# Perform Tukey's HSD post-hoc test\n",
    "tukey_result = mc.tukeyhsd()\n",
    "\n",
    "# Display the results\n",
    "print(\"Tukey's HSD Post-Hoc Test:\")\n",
    "print(tukey_result)\n"
   ]
  }
 ],
 "metadata": {
  "kernelspec": {
   "display_name": "Python 3",
   "language": "python",
   "name": "python3"
  },
  "language_info": {
   "codemirror_mode": {
    "name": "ipython",
    "version": 3
   },
   "file_extension": ".py",
   "mimetype": "text/x-python",
   "name": "python",
   "nbconvert_exporter": "python",
   "pygments_lexer": "ipython3",
   "version": "3.9.2"
  }
 },
 "nbformat": 4,
 "nbformat_minor": 2
}
